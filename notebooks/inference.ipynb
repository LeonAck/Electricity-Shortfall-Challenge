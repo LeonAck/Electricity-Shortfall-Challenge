{
 "cells": [
  {
   "cell_type": "code",
   "execution_count": null,
   "metadata": {},
   "outputs": [],
   "source": [
    "import joblib\n",
    "import pandas as pd\n",
    "import os\n",
    "import sys\n",
    "\n",
    "# Add project root to Python path\n",
    "project_root = os.path.dirname(os.getcwd())\n",
    "sys.path.append(project_root)\n",
    "\n",
    "from preprocessing import * \n",
    "\n",
    "# Load bundle\n",
    "model = joblib.load(\"../saved_models/best_model.pkl\")\n",
    "pipeline = joblib.load(\"../saved_models/preprocessing_pipeline.pkl\")\n",
    "\n",
    "def predict_batch(input_df: pd.DataFrame) -> pd.Series:\n",
    "    X_transformed = pipeline.transform(input_df)\n",
    "    preds = model.predict(X_transformed)\n",
    "    return pd.Series(preds, index=input_df.index)\n",
    "\n",
    "def predict_single(input_row: pd.Series) -> float:\n",
    "    df_row = pd.DataFrame([input_row])\n",
    "    X_transformed = pipeline.transform(df_row)\n",
    "    pred = model.predict(X_transformed)[0]\n",
    "    return pd.Series(pred)\n"
   ]
  },
  {
   "cell_type": "code",
   "execution_count": null,
   "metadata": {},
   "outputs": [],
   "source": [
    "if __name__ == \"__main__\":\n",
    "    # Example test data\n",
    "    df = pd.read_csv(\"../Data/Data_raw/df_test.csv\")\n",
    "    preds = predict_batch(df)\n",
    "    preds.to_csv(\"predictions.csv\")\n",
    "    print(\"✅ Predictions saved.\")"
   ]
  }
 ],
 "metadata": {
  "kernelspec": {
   "display_name": "Python 3",
   "language": "python",
   "name": "python3"
  },
  "language_info": {
   "codemirror_mode": {
    "name": "ipython",
    "version": 3
   },
   "file_extension": ".py",
   "mimetype": "text/x-python",
   "name": "python",
   "nbconvert_exporter": "python",
   "pygments_lexer": "ipython3",
   "version": "3.11.9"
  }
 },
 "nbformat": 4,
 "nbformat_minor": 2
}
